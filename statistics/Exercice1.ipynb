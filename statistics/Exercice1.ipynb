{
 "cells": [
  {
   "cell_type": "code",
   "execution_count": 142,
   "id": "4e8cd05a",
   "metadata": {},
   "outputs": [],
   "source": [
    "import numpy as np\n",
    "\n",
    "def calculate(l):\n",
    "    if len(l) != 9:\n",
    "         print(\"List must contain nine numbers.\")\n",
    "    else:\n",
    "        try:\n",
    "            array = np.array(l)\n",
    "            array3D = array.reshape(3,3)\n",
    "            calculations = {}\n",
    "            calculations[\"mean\"] = [[np.mean(array3D, axis=0)],[np.mean(array3D, axis=1)],np.mean(array3D)]\n",
    "            calculations[\"variance\"] = [[np.var(array3D, axis=0)],[np.var(array3D, axis=1)],np.var(array3D)]\n",
    "            calculations[\"standard deviation\"] = [[np.std(array3D, axis=0)],[np.std(array3D, axis=1)],np.std(array3D)]\n",
    "            calculations[\"max\"] = [[np.max(array3D, axis=0)],[np.max(array3D, axis=1)],np.max(array3D)]\n",
    "            calculations[\"min\"] = [[np.min(array3D, axis=0)],[np.min(array3D, axis=1)],np.min(array3D)]\n",
    "            calculations[\"sum\"] = [[np.sum(array3D, axis=0)],[np.sum(array3D, axis=1)],np.sum(array3D)]\n",
    "            return calculations\n",
    "        except ValueError:\n",
    "                print(\"List must contain nine numbers.\")   "
   ]
  },
  {
   "cell_type": "code",
   "execution_count": 140,
   "id": "95baf950",
   "metadata": {
    "scrolled": true
   },
   "outputs": [
    {
     "name": "stdout",
     "output_type": "stream",
     "text": [
      "List must contain nine numbers.\n",
      "None\n"
     ]
    }
   ],
   "source": [
    "l = [0,1,2,3,4,5,6,7,8]\n",
    "d = calculate(l)\n",
    "print(d)"
   ]
  },
  {
   "cell_type": "code",
   "execution_count": null,
   "id": "bd7a1d0e",
   "metadata": {},
   "outputs": [],
   "source": []
  },
  {
   "cell_type": "code",
   "execution_count": null,
   "id": "bcec9a27",
   "metadata": {},
   "outputs": [],
   "source": []
  }
 ],
 "metadata": {
  "kernelspec": {
   "display_name": "Python 3 (ipykernel)",
   "language": "python",
   "name": "python3"
  },
  "language_info": {
   "codemirror_mode": {
    "name": "ipython",
    "version": 3
   },
   "file_extension": ".py",
   "mimetype": "text/x-python",
   "name": "python",
   "nbconvert_exporter": "python",
   "pygments_lexer": "ipython3",
   "version": "3.9.13"
  }
 },
 "nbformat": 4,
 "nbformat_minor": 5
}
